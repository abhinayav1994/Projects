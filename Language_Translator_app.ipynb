{
  "nbformat": 4,
  "nbformat_minor": 0,
  "metadata": {
    "colab": {
      "name": "Language Translator app",
      "provenance": []
    },
    "kernelspec": {
      "name": "python3",
      "display_name": "Python 3"
    },
    "language_info": {
      "name": "python"
    }
  },
  "cells": [
    {
      "cell_type": "code",
      "metadata": {
        "colab": {
          "base_uri": "https://localhost:8080/"
        },
        "id": "Y5jyqx0UQv0J",
        "outputId": "c9b01da0-f059-4798-c4c2-0afd4e74e0f3"
      },
      "source": [
        "#installing the dependencies\n",
        "!pip install torch==1.8.1+cu111 torchvision==0.9.1+cu111 torchaudio===0.8.1 -f https://download.pytorch.org/whl/lts/1.8/torch_lts.html"
      ],
      "execution_count": 1,
      "outputs": [
        {
          "output_type": "stream",
          "name": "stdout",
          "text": [
            "Looking in links: https://download.pytorch.org/whl/lts/1.8/torch_lts.html\n",
            "Collecting torch==1.8.1+cu111\n",
            "  Downloading https://download.pytorch.org/whl/lts/1.8/cu111/torch-1.8.1%2Bcu111-cp37-cp37m-linux_x86_64.whl (1982.2 MB)\n",
            "\u001b[K     |█████████████▌                  | 834.1 MB 1.4 MB/s eta 0:13:44tcmalloc: large alloc 1147494400 bytes == 0x55b046590000 @  0x7f4caf72f615 0x55b00c97d02c 0x55b00ca5d17a 0x55b00c97fe4d 0x55b00ca71c0d 0x55b00c9f40d8 0x55b00c9eec35 0x55b00c98173a 0x55b00c9f3f40 0x55b00c9eec35 0x55b00c98173a 0x55b00c9f093b 0x55b00ca72a56 0x55b00c9effb3 0x55b00ca72a56 0x55b00c9effb3 0x55b00ca72a56 0x55b00c9effb3 0x55b00c981b99 0x55b00c9c4e79 0x55b00c9807b2 0x55b00c9f3e65 0x55b00c9eec35 0x55b00c98173a 0x55b00c9f093b 0x55b00c9eec35 0x55b00c98173a 0x55b00c9efb0e 0x55b00c98165a 0x55b00c9efd67 0x55b00c9eec35\n",
            "\u001b[K     |█████████████████               | 1055.7 MB 1.3 MB/s eta 0:11:33tcmalloc: large alloc 1434370048 bytes == 0x55b08abe6000 @  0x7f4caf72f615 0x55b00c97d02c 0x55b00ca5d17a 0x55b00c97fe4d 0x55b00ca71c0d 0x55b00c9f40d8 0x55b00c9eec35 0x55b00c98173a 0x55b00c9f3f40 0x55b00c9eec35 0x55b00c98173a 0x55b00c9f093b 0x55b00ca72a56 0x55b00c9effb3 0x55b00ca72a56 0x55b00c9effb3 0x55b00ca72a56 0x55b00c9effb3 0x55b00c981b99 0x55b00c9c4e79 0x55b00c9807b2 0x55b00c9f3e65 0x55b00c9eec35 0x55b00c98173a 0x55b00c9f093b 0x55b00c9eec35 0x55b00c98173a 0x55b00c9efb0e 0x55b00c98165a 0x55b00c9efd67 0x55b00c9eec35\n",
            "\u001b[K     |█████████████████████▋          | 1336.2 MB 1.7 MB/s eta 0:06:22tcmalloc: large alloc 1792966656 bytes == 0x55b00fa18000 @  0x7f4caf72f615 0x55b00c97d02c 0x55b00ca5d17a 0x55b00c97fe4d 0x55b00ca71c0d 0x55b00c9f40d8 0x55b00c9eec35 0x55b00c98173a 0x55b00c9f3f40 0x55b00c9eec35 0x55b00c98173a 0x55b00c9f093b 0x55b00ca72a56 0x55b00c9effb3 0x55b00ca72a56 0x55b00c9effb3 0x55b00ca72a56 0x55b00c9effb3 0x55b00c981b99 0x55b00c9c4e79 0x55b00c9807b2 0x55b00c9f3e65 0x55b00c9eec35 0x55b00c98173a 0x55b00c9f093b 0x55b00c9eec35 0x55b00c98173a 0x55b00c9efb0e 0x55b00c98165a 0x55b00c9efd67 0x55b00c9eec35\n",
            "\u001b[K     |███████████████████████████▎    | 1691.1 MB 1.2 MB/s eta 0:04:06tcmalloc: large alloc 2241208320 bytes == 0x55b07a800000 @  0x7f4caf72f615 0x55b00c97d02c 0x55b00ca5d17a 0x55b00c97fe4d 0x55b00ca71c0d 0x55b00c9f40d8 0x55b00c9eec35 0x55b00c98173a 0x55b00c9f3f40 0x55b00c9eec35 0x55b00c98173a 0x55b00c9f093b 0x55b00ca72a56 0x55b00c9effb3 0x55b00ca72a56 0x55b00c9effb3 0x55b00ca72a56 0x55b00c9effb3 0x55b00c981b99 0x55b00c9c4e79 0x55b00c9807b2 0x55b00c9f3e65 0x55b00c9eec35 0x55b00c98173a 0x55b00c9f093b 0x55b00c9eec35 0x55b00c98173a 0x55b00c9efb0e 0x55b00c98165a 0x55b00c9efd67 0x55b00c9eec35\n",
            "\u001b[K     |████████████████████████████████| 1982.2 MB 1.2 MB/s eta 0:00:01tcmalloc: large alloc 1982177280 bytes == 0x55b100162000 @  0x7f4caf72e1e7 0x55b00c9b2ae7 0x55b00c97d02c 0x55b00ca5d17a 0x55b00c97fe4d 0x55b00ca71c0d 0x55b00c9f40d8 0x55b00c9eec35 0x55b00c98173a 0x55b00c9efd67 0x55b00c9eec35 0x55b00c98173a 0x55b00c9efd67 0x55b00c9eec35 0x55b00c98173a 0x55b00c9efd67 0x55b00c9eec35 0x55b00c98173a 0x55b00c9efd67 0x55b00c9eec35 0x55b00c98173a 0x55b00c9efd67 0x55b00c98165a 0x55b00c9efd67 0x55b00c9eec35 0x55b00c98173a 0x55b00c9f093b 0x55b00c9eec35 0x55b00c98173a 0x55b00c9f093b 0x55b00c9eec35\n",
            "tcmalloc: large alloc 2477727744 bytes == 0x55b1ea832000 @  0x7f4caf72f615 0x55b00c97d02c 0x55b00ca5d17a 0x55b00c97fe4d 0x55b00ca71c0d 0x55b00c9f40d8 0x55b00c9eec35 0x55b00c98173a 0x55b00c9efd67 0x55b00c9eec35 0x55b00c98173a 0x55b00c9efd67 0x55b00c9eec35 0x55b00c98173a 0x55b00c9efd67 0x55b00c9eec35 0x55b00c98173a 0x55b00c9efd67 0x55b00c9eec35 0x55b00c98173a 0x55b00c9efd67 0x55b00c98165a 0x55b00c9efd67 0x55b00c9eec35 0x55b00c98173a 0x55b00c9f093b 0x55b00c9eec35 0x55b00c98173a 0x55b00c9f093b 0x55b00c9eec35 0x55b00c981dd1\n",
            "\u001b[K     |████████████████████████████████| 1982.2 MB 1.1 kB/s \n",
            "\u001b[?25hCollecting torchvision==0.9.1+cu111\n",
            "  Downloading https://download.pytorch.org/whl/lts/1.8/cu111/torchvision-0.9.1%2Bcu111-cp37-cp37m-linux_x86_64.whl (17.6 MB)\n",
            "\u001b[K     |████████████████████████████████| 17.6 MB 55 kB/s \n",
            "\u001b[?25hCollecting torchaudio===0.8.1\n",
            "  Downloading torchaudio-0.8.1-cp37-cp37m-manylinux1_x86_64.whl (1.9 MB)\n",
            "\u001b[K     |████████████████████████████████| 1.9 MB 16.2 MB/s \n",
            "\u001b[?25hRequirement already satisfied: numpy in /usr/local/lib/python3.7/dist-packages (from torch==1.8.1+cu111) (1.19.5)\n",
            "Requirement already satisfied: typing-extensions in /usr/local/lib/python3.7/dist-packages (from torch==1.8.1+cu111) (3.7.4.3)\n",
            "Requirement already satisfied: pillow>=4.1.1 in /usr/local/lib/python3.7/dist-packages (from torchvision==0.9.1+cu111) (7.1.2)\n",
            "Installing collected packages: torch, torchvision, torchaudio\n",
            "  Attempting uninstall: torch\n",
            "    Found existing installation: torch 1.9.0+cu102\n",
            "    Uninstalling torch-1.9.0+cu102:\n",
            "      Successfully uninstalled torch-1.9.0+cu102\n",
            "  Attempting uninstall: torchvision\n",
            "    Found existing installation: torchvision 0.10.0+cu102\n",
            "    Uninstalling torchvision-0.10.0+cu102:\n",
            "      Successfully uninstalled torchvision-0.10.0+cu102\n",
            "\u001b[31mERROR: pip's dependency resolver does not currently take into account all the packages that are installed. This behaviour is the source of the following dependency conflicts.\n",
            "torchtext 0.10.0 requires torch==1.9.0, but you have torch 1.8.1+cu111 which is incompatible.\u001b[0m\n",
            "Successfully installed torch-1.8.1+cu111 torchaudio-0.8.1 torchvision-0.9.1+cu111\n"
          ]
        }
      ]
    },
    {
      "cell_type": "code",
      "metadata": {
        "colab": {
          "base_uri": "https://localhost:8080/",
          "height": 1000
        },
        "id": "VyXcxscyZs7o",
        "outputId": "515108e2-47a5-409b-a498-21fcf71218ae"
      },
      "source": [
        "#installing the gradio transformer and set up our model further.\n",
        "!pip install transformers ipywidgets gradio --upgrade"
      ],
      "execution_count": 2,
      "outputs": [
        {
          "output_type": "stream",
          "name": "stdout",
          "text": [
            "Collecting transformers\n",
            "  Downloading transformers-4.10.2-py3-none-any.whl (2.8 MB)\n",
            "\u001b[?25l\r\u001b[K     |▏                               | 10 kB 23.4 MB/s eta 0:00:01\r\u001b[K     |▎                               | 20 kB 27.5 MB/s eta 0:00:01\r\u001b[K     |▍                               | 30 kB 30.3 MB/s eta 0:00:01\r\u001b[K     |▌                               | 40 kB 32.5 MB/s eta 0:00:01\r\u001b[K     |▋                               | 51 kB 35.6 MB/s eta 0:00:01\r\u001b[K     |▊                               | 61 kB 37.9 MB/s eta 0:00:01\r\u001b[K     |▉                               | 71 kB 31.3 MB/s eta 0:00:01\r\u001b[K     |█                               | 81 kB 32.6 MB/s eta 0:00:01\r\u001b[K     |█                               | 92 kB 32.1 MB/s eta 0:00:01\r\u001b[K     |█▏                              | 102 kB 34.0 MB/s eta 0:00:01\r\u001b[K     |█▎                              | 112 kB 34.0 MB/s eta 0:00:01\r\u001b[K     |█▍                              | 122 kB 34.0 MB/s eta 0:00:01\r\u001b[K     |█▌                              | 133 kB 34.0 MB/s eta 0:00:01\r\u001b[K     |█▋                              | 143 kB 34.0 MB/s eta 0:00:01\r\u001b[K     |█▉                              | 153 kB 34.0 MB/s eta 0:00:01\r\u001b[K     |██                              | 163 kB 34.0 MB/s eta 0:00:01\r\u001b[K     |██                              | 174 kB 34.0 MB/s eta 0:00:01\r\u001b[K     |██▏                             | 184 kB 34.0 MB/s eta 0:00:01\r\u001b[K     |██▎                             | 194 kB 34.0 MB/s eta 0:00:01\r\u001b[K     |██▍                             | 204 kB 34.0 MB/s eta 0:00:01\r\u001b[K     |██▌                             | 215 kB 34.0 MB/s eta 0:00:01\r\u001b[K     |██▋                             | 225 kB 34.0 MB/s eta 0:00:01\r\u001b[K     |██▊                             | 235 kB 34.0 MB/s eta 0:00:01\r\u001b[K     |██▉                             | 245 kB 34.0 MB/s eta 0:00:01\r\u001b[K     |███                             | 256 kB 34.0 MB/s eta 0:00:01\r\u001b[K     |███                             | 266 kB 34.0 MB/s eta 0:00:01\r\u001b[K     |███▏                            | 276 kB 34.0 MB/s eta 0:00:01\r\u001b[K     |███▎                            | 286 kB 34.0 MB/s eta 0:00:01\r\u001b[K     |███▍                            | 296 kB 34.0 MB/s eta 0:00:01\r\u001b[K     |███▋                            | 307 kB 34.0 MB/s eta 0:00:01\r\u001b[K     |███▊                            | 317 kB 34.0 MB/s eta 0:00:01\r\u001b[K     |███▉                            | 327 kB 34.0 MB/s eta 0:00:01\r\u001b[K     |████                            | 337 kB 34.0 MB/s eta 0:00:01\r\u001b[K     |████                            | 348 kB 34.0 MB/s eta 0:00:01\r\u001b[K     |████▏                           | 358 kB 34.0 MB/s eta 0:00:01\r\u001b[K     |████▎                           | 368 kB 34.0 MB/s eta 0:00:01\r\u001b[K     |████▍                           | 378 kB 34.0 MB/s eta 0:00:01\r\u001b[K     |████▌                           | 389 kB 34.0 MB/s eta 0:00:01\r\u001b[K     |████▋                           | 399 kB 34.0 MB/s eta 0:00:01\r\u001b[K     |████▊                           | 409 kB 34.0 MB/s eta 0:00:01\r\u001b[K     |████▉                           | 419 kB 34.0 MB/s eta 0:00:01\r\u001b[K     |█████                           | 430 kB 34.0 MB/s eta 0:00:01\r\u001b[K     |█████                           | 440 kB 34.0 MB/s eta 0:00:01\r\u001b[K     |█████▏                          | 450 kB 34.0 MB/s eta 0:00:01\r\u001b[K     |█████▍                          | 460 kB 34.0 MB/s eta 0:00:01\r\u001b[K     |█████▌                          | 471 kB 34.0 MB/s eta 0:00:01\r\u001b[K     |█████▋                          | 481 kB 34.0 MB/s eta 0:00:01\r\u001b[K     |█████▊                          | 491 kB 34.0 MB/s eta 0:00:01\r\u001b[K     |█████▉                          | 501 kB 34.0 MB/s eta 0:00:01\r\u001b[K     |██████                          | 512 kB 34.0 MB/s eta 0:00:01\r\u001b[K     |██████                          | 522 kB 34.0 MB/s eta 0:00:01\r\u001b[K     |██████▏                         | 532 kB 34.0 MB/s eta 0:00:01\r\u001b[K     |██████▎                         | 542 kB 34.0 MB/s eta 0:00:01\r\u001b[K     |██████▍                         | 552 kB 34.0 MB/s eta 0:00:01\r\u001b[K     |██████▌                         | 563 kB 34.0 MB/s eta 0:00:01\r\u001b[K     |██████▋                         | 573 kB 34.0 MB/s eta 0:00:01\r\u001b[K     |██████▊                         | 583 kB 34.0 MB/s eta 0:00:01\r\u001b[K     |██████▉                         | 593 kB 34.0 MB/s eta 0:00:01\r\u001b[K     |███████                         | 604 kB 34.0 MB/s eta 0:00:01\r\u001b[K     |███████▏                        | 614 kB 34.0 MB/s eta 0:00:01\r\u001b[K     |███████▎                        | 624 kB 34.0 MB/s eta 0:00:01\r\u001b[K     |███████▍                        | 634 kB 34.0 MB/s eta 0:00:01\r\u001b[K     |███████▌                        | 645 kB 34.0 MB/s eta 0:00:01\r\u001b[K     |███████▋                        | 655 kB 34.0 MB/s eta 0:00:01\r\u001b[K     |███████▊                        | 665 kB 34.0 MB/s eta 0:00:01\r\u001b[K     |███████▉                        | 675 kB 34.0 MB/s eta 0:00:01\r\u001b[K     |████████                        | 686 kB 34.0 MB/s eta 0:00:01\r\u001b[K     |████████                        | 696 kB 34.0 MB/s eta 0:00:01\r\u001b[K     |████████▏                       | 706 kB 34.0 MB/s eta 0:00:01\r\u001b[K     |████████▎                       | 716 kB 34.0 MB/s eta 0:00:01\r\u001b[K     |████████▍                       | 727 kB 34.0 MB/s eta 0:00:01\r\u001b[K     |████████▌                       | 737 kB 34.0 MB/s eta 0:00:01\r\u001b[K     |████████▋                       | 747 kB 34.0 MB/s eta 0:00:01\r\u001b[K     |████████▉                       | 757 kB 34.0 MB/s eta 0:00:01\r\u001b[K     |█████████                       | 768 kB 34.0 MB/s eta 0:00:01\r\u001b[K     |█████████                       | 778 kB 34.0 MB/s eta 0:00:01\r\u001b[K     |█████████▏                      | 788 kB 34.0 MB/s eta 0:00:01\r\u001b[K     |█████████▎                      | 798 kB 34.0 MB/s eta 0:00:01\r\u001b[K     |█████████▍                      | 808 kB 34.0 MB/s eta 0:00:01\r\u001b[K     |█████████▌                      | 819 kB 34.0 MB/s eta 0:00:01\r\u001b[K     |█████████▋                      | 829 kB 34.0 MB/s eta 0:00:01\r\u001b[K     |█████████▊                      | 839 kB 34.0 MB/s eta 0:00:01\r\u001b[K     |█████████▉                      | 849 kB 34.0 MB/s eta 0:00:01\r\u001b[K     |██████████                      | 860 kB 34.0 MB/s eta 0:00:01\r\u001b[K     |██████████                      | 870 kB 34.0 MB/s eta 0:00:01\r\u001b[K     |██████████▏                     | 880 kB 34.0 MB/s eta 0:00:01\r\u001b[K     |██████████▎                     | 890 kB 34.0 MB/s eta 0:00:01\r\u001b[K     |██████████▍                     | 901 kB 34.0 MB/s eta 0:00:01\r\u001b[K     |██████████▋                     | 911 kB 34.0 MB/s eta 0:00:01\r\u001b[K     |██████████▊                     | 921 kB 34.0 MB/s eta 0:00:01\r\u001b[K     |██████████▉                     | 931 kB 34.0 MB/s eta 0:00:01\r\u001b[K     |███████████                     | 942 kB 34.0 MB/s eta 0:00:01\r\u001b[K     |███████████                     | 952 kB 34.0 MB/s eta 0:00:01\r\u001b[K     |███████████▏                    | 962 kB 34.0 MB/s eta 0:00:01\r\u001b[K     |███████████▎                    | 972 kB 34.0 MB/s eta 0:00:01\r\u001b[K     |███████████▍                    | 983 kB 34.0 MB/s eta 0:00:01\r\u001b[K     |███████████▌                    | 993 kB 34.0 MB/s eta 0:00:01\r\u001b[K     |███████████▋                    | 1.0 MB 34.0 MB/s eta 0:00:01\r\u001b[K     |███████████▊                    | 1.0 MB 34.0 MB/s eta 0:00:01\r\u001b[K     |███████████▉                    | 1.0 MB 34.0 MB/s eta 0:00:01\r\u001b[K     |████████████                    | 1.0 MB 34.0 MB/s eta 0:00:01\r\u001b[K     |████████████                    | 1.0 MB 34.0 MB/s eta 0:00:01\r\u001b[K     |████████████▏                   | 1.1 MB 34.0 MB/s eta 0:00:01\r\u001b[K     |████████████▍                   | 1.1 MB 34.0 MB/s eta 0:00:01\r\u001b[K     |████████████▌                   | 1.1 MB 34.0 MB/s eta 0:00:01\r\u001b[K     |████████████▋                   | 1.1 MB 34.0 MB/s eta 0:00:01\r\u001b[K     |████████████▊                   | 1.1 MB 34.0 MB/s eta 0:00:01\r\u001b[K     |████████████▉                   | 1.1 MB 34.0 MB/s eta 0:00:01\r\u001b[K     |█████████████                   | 1.1 MB 34.0 MB/s eta 0:00:01\r\u001b[K     |█████████████                   | 1.1 MB 34.0 MB/s eta 0:00:01\r\u001b[K     |█████████████▏                  | 1.1 MB 34.0 MB/s eta 0:00:01\r\u001b[K     |█████████████▎                  | 1.1 MB 34.0 MB/s eta 0:00:01\r\u001b[K     |█████████████▍                  | 1.2 MB 34.0 MB/s eta 0:00:01\r\u001b[K     |█████████████▌                  | 1.2 MB 34.0 MB/s eta 0:00:01\r\u001b[K     |█████████████▋                  | 1.2 MB 34.0 MB/s eta 0:00:01\r\u001b[K     |█████████████▊                  | 1.2 MB 34.0 MB/s eta 0:00:01\r\u001b[K     |█████████████▉                  | 1.2 MB 34.0 MB/s eta 0:00:01\r\u001b[K     |██████████████                  | 1.2 MB 34.0 MB/s eta 0:00:01\r\u001b[K     |██████████████▏                 | 1.2 MB 34.0 MB/s eta 0:00:01\r\u001b[K     |██████████████▎                 | 1.2 MB 34.0 MB/s eta 0:00:01\r\u001b[K     |██████████████▍                 | 1.2 MB 34.0 MB/s eta 0:00:01\r\u001b[K     |██████████████▌                 | 1.2 MB 34.0 MB/s eta 0:00:01\r\u001b[K     |██████████████▋                 | 1.3 MB 34.0 MB/s eta 0:00:01\r\u001b[K     |██████████████▊                 | 1.3 MB 34.0 MB/s eta 0:00:01\r\u001b[K     |██████████████▉                 | 1.3 MB 34.0 MB/s eta 0:00:01\r\u001b[K     |███████████████                 | 1.3 MB 34.0 MB/s eta 0:00:01\r\u001b[K     |███████████████                 | 1.3 MB 34.0 MB/s eta 0:00:01\r\u001b[K     |███████████████▏                | 1.3 MB 34.0 MB/s eta 0:00:01\r\u001b[K     |███████████████▎                | 1.3 MB 34.0 MB/s eta 0:00:01\r\u001b[K     |███████████████▍                | 1.3 MB 34.0 MB/s eta 0:00:01\r\u001b[K     |███████████████▌                | 1.3 MB 34.0 MB/s eta 0:00:01\r\u001b[K     |███████████████▋                | 1.4 MB 34.0 MB/s eta 0:00:01\r\u001b[K     |███████████████▉                | 1.4 MB 34.0 MB/s eta 0:00:01\r\u001b[K     |████████████████                | 1.4 MB 34.0 MB/s eta 0:00:01\r\u001b[K     |████████████████                | 1.4 MB 34.0 MB/s eta 0:00:01\r\u001b[K     |████████████████▏               | 1.4 MB 34.0 MB/s eta 0:00:01\r\u001b[K     |████████████████▎               | 1.4 MB 34.0 MB/s eta 0:00:01\r\u001b[K     |████████████████▍               | 1.4 MB 34.0 MB/s eta 0:00:01\r\u001b[K     |████████████████▌               | 1.4 MB 34.0 MB/s eta 0:00:01\r\u001b[K     |████████████████▋               | 1.4 MB 34.0 MB/s eta 0:00:01\r\u001b[K     |████████████████▊               | 1.4 MB 34.0 MB/s eta 0:00:01\r\u001b[K     |████████████████▉               | 1.5 MB 34.0 MB/s eta 0:00:01\r\u001b[K     |█████████████████               | 1.5 MB 34.0 MB/s eta 0:00:01\r\u001b[K     |█████████████████               | 1.5 MB 34.0 MB/s eta 0:00:01\r\u001b[K     |█████████████████▏              | 1.5 MB 34.0 MB/s eta 0:00:01\r\u001b[K     |█████████████████▎              | 1.5 MB 34.0 MB/s eta 0:00:01\r\u001b[K     |█████████████████▍              | 1.5 MB 34.0 MB/s eta 0:00:01\r\u001b[K     |█████████████████▋              | 1.5 MB 34.0 MB/s eta 0:00:01\r\u001b[K     |█████████████████▊              | 1.5 MB 34.0 MB/s eta 0:00:01\r\u001b[K     |█████████████████▉              | 1.5 MB 34.0 MB/s eta 0:00:01\r\u001b[K     |██████████████████              | 1.5 MB 34.0 MB/s eta 0:00:01\r\u001b[K     |██████████████████              | 1.6 MB 34.0 MB/s eta 0:00:01\r\u001b[K     |██████████████████▏             | 1.6 MB 34.0 MB/s eta 0:00:01\r\u001b[K     |██████████████████▎             | 1.6 MB 34.0 MB/s eta 0:00:01\r\u001b[K     |██████████████████▍             | 1.6 MB 34.0 MB/s eta 0:00:01\r\u001b[K     |██████████████████▌             | 1.6 MB 34.0 MB/s eta 0:00:01\r\u001b[K     |██████████████████▋             | 1.6 MB 34.0 MB/s eta 0:00:01\r\u001b[K     |██████████████████▊             | 1.6 MB 34.0 MB/s eta 0:00:01\r\u001b[K     |██████████████████▉             | 1.6 MB 34.0 MB/s eta 0:00:01\r\u001b[K     |███████████████████             | 1.6 MB 34.0 MB/s eta 0:00:01\r\u001b[K     |███████████████████             | 1.6 MB 34.0 MB/s eta 0:00:01\r\u001b[K     |███████████████████▏            | 1.7 MB 34.0 MB/s eta 0:00:01\r\u001b[K     |███████████████████▍            | 1.7 MB 34.0 MB/s eta 0:00:01\r\u001b[K     |███████████████████▌            | 1.7 MB 34.0 MB/s eta 0:00:01\r\u001b[K     |███████████████████▋            | 1.7 MB 34.0 MB/s eta 0:00:01\r\u001b[K     |███████████████████▊            | 1.7 MB 34.0 MB/s eta 0:00:01\r\u001b[K     |███████████████████▉            | 1.7 MB 34.0 MB/s eta 0:00:01\r\u001b[K     |████████████████████            | 1.7 MB 34.0 MB/s eta 0:00:01\r\u001b[K     |████████████████████            | 1.7 MB 34.0 MB/s eta 0:00:01\r\u001b[K     |████████████████████▏           | 1.7 MB 34.0 MB/s eta 0:00:01\r\u001b[K     |████████████████████▎           | 1.8 MB 34.0 MB/s eta 0:00:01\r\u001b[K     |████████████████████▍           | 1.8 MB 34.0 MB/s eta 0:00:01\r\u001b[K     |████████████████████▌           | 1.8 MB 34.0 MB/s eta 0:00:01\r\u001b[K     |████████████████████▋           | 1.8 MB 34.0 MB/s eta 0:00:01\r\u001b[K     |████████████████████▊           | 1.8 MB 34.0 MB/s eta 0:00:01\r\u001b[K     |████████████████████▉           | 1.8 MB 34.0 MB/s eta 0:00:01\r\u001b[K     |█████████████████████           | 1.8 MB 34.0 MB/s eta 0:00:01\r\u001b[K     |█████████████████████▏          | 1.8 MB 34.0 MB/s eta 0:00:01\r\u001b[K     |█████████████████████▎          | 1.8 MB 34.0 MB/s eta 0:00:01\r\u001b[K     |█████████████████████▍          | 1.8 MB 34.0 MB/s eta 0:00:01\r\u001b[K     |█████████████████████▌          | 1.9 MB 34.0 MB/s eta 0:00:01\r\u001b[K     |█████████████████████▋          | 1.9 MB 34.0 MB/s eta 0:00:01\r\u001b[K     |█████████████████████▊          | 1.9 MB 34.0 MB/s eta 0:00:01\r\u001b[K     |█████████████████████▉          | 1.9 MB 34.0 MB/s eta 0:00:01\r\u001b[K     |██████████████████████          | 1.9 MB 34.0 MB/s eta 0:00:01\r\u001b[K     |██████████████████████          | 1.9 MB 34.0 MB/s eta 0:00:01\r\u001b[K     |██████████████████████▏         | 1.9 MB 34.0 MB/s eta 0:00:01\r\u001b[K     |██████████████████████▎         | 1.9 MB 34.0 MB/s eta 0:00:01\r\u001b[K     |██████████████████████▍         | 1.9 MB 34.0 MB/s eta 0:00:01\r\u001b[K     |██████████████████████▌         | 1.9 MB 34.0 MB/s eta 0:00:01\r\u001b[K     |██████████████████████▋         | 2.0 MB 34.0 MB/s eta 0:00:01\r\u001b[K     |██████████████████████▉         | 2.0 MB 34.0 MB/s eta 0:00:01\r\u001b[K     |███████████████████████         | 2.0 MB 34.0 MB/s eta 0:00:01\r\u001b[K     |███████████████████████         | 2.0 MB 34.0 MB/s eta 0:00:01\r\u001b[K     |███████████████████████▏        | 2.0 MB 34.0 MB/s eta 0:00:01\r\u001b[K     |███████████████████████▎        | 2.0 MB 34.0 MB/s eta 0:00:01\r\u001b[K     |███████████████████████▍        | 2.0 MB 34.0 MB/s eta 0:00:01\r\u001b[K     |███████████████████████▌        | 2.0 MB 34.0 MB/s eta 0:00:01\r\u001b[K     |███████████████████████▋        | 2.0 MB 34.0 MB/s eta 0:00:01\r\u001b[K     |███████████████████████▊        | 2.0 MB 34.0 MB/s eta 0:00:01\r\u001b[K     |███████████████████████▉        | 2.1 MB 34.0 MB/s eta 0:00:01\r\u001b[K     |████████████████████████        | 2.1 MB 34.0 MB/s eta 0:00:01\r\u001b[K     |████████████████████████        | 2.1 MB 34.0 MB/s eta 0:00:01\r\u001b[K     |████████████████████████▏       | 2.1 MB 34.0 MB/s eta 0:00:01\r\u001b[K     |████████████████████████▎       | 2.1 MB 34.0 MB/s eta 0:00:01\r\u001b[K     |████████████████████████▍       | 2.1 MB 34.0 MB/s eta 0:00:01\r\u001b[K     |████████████████████████▋       | 2.1 MB 34.0 MB/s eta 0:00:01\r\u001b[K     |████████████████████████▊       | 2.1 MB 34.0 MB/s eta 0:00:01\r\u001b[K     |████████████████████████▉       | 2.1 MB 34.0 MB/s eta 0:00:01\r\u001b[K     |█████████████████████████       | 2.2 MB 34.0 MB/s eta 0:00:01\r\u001b[K     |█████████████████████████       | 2.2 MB 34.0 MB/s eta 0:00:01\r\u001b[K     |█████████████████████████▏      | 2.2 MB 34.0 MB/s eta 0:00:01\r\u001b[K     |█████████████████████████▎      | 2.2 MB 34.0 MB/s eta 0:00:01\r\u001b[K     |█████████████████████████▍      | 2.2 MB 34.0 MB/s eta 0:00:01\r\u001b[K     |█████████████████████████▌      | 2.2 MB 34.0 MB/s eta 0:00:01\r\u001b[K     |█████████████████████████▋      | 2.2 MB 34.0 MB/s eta 0:00:01\r\u001b[K     |█████████████████████████▊      | 2.2 MB 34.0 MB/s eta 0:00:01\r\u001b[K     |█████████████████████████▉      | 2.2 MB 34.0 MB/s eta 0:00:01\r\u001b[K     |██████████████████████████      | 2.2 MB 34.0 MB/s eta 0:00:01\r\u001b[K     |██████████████████████████      | 2.3 MB 34.0 MB/s eta 0:00:01\r\u001b[K     |██████████████████████████▏     | 2.3 MB 34.0 MB/s eta 0:00:01\r\u001b[K     |██████████████████████████▍     | 2.3 MB 34.0 MB/s eta 0:00:01\r\u001b[K     |██████████████████████████▌     | 2.3 MB 34.0 MB/s eta 0:00:01\r\u001b[K     |██████████████████████████▋     | 2.3 MB 34.0 MB/s eta 0:00:01\r\u001b[K     |██████████████████████████▊     | 2.3 MB 34.0 MB/s eta 0:00:01\r\u001b[K     |██████████████████████████▉     | 2.3 MB 34.0 MB/s eta 0:00:01\r\u001b[K     |███████████████████████████     | 2.3 MB 34.0 MB/s eta 0:00:01\r\u001b[K     |███████████████████████████     | 2.3 MB 34.0 MB/s eta 0:00:01\r\u001b[K     |███████████████████████████▏    | 2.3 MB 34.0 MB/s eta 0:00:01\r\u001b[K     |███████████████████████████▎    | 2.4 MB 34.0 MB/s eta 0:00:01\r\u001b[K     |███████████████████████████▍    | 2.4 MB 34.0 MB/s eta 0:00:01\r\u001b[K     |███████████████████████████▌    | 2.4 MB 34.0 MB/s eta 0:00:01\r\u001b[K     |███████████████████████████▋    | 2.4 MB 34.0 MB/s eta 0:00:01\r\u001b[K     |███████████████████████████▊    | 2.4 MB 34.0 MB/s eta 0:00:01\r\u001b[K     |███████████████████████████▉    | 2.4 MB 34.0 MB/s eta 0:00:01\r\u001b[K     |████████████████████████████    | 2.4 MB 34.0 MB/s eta 0:00:01\r\u001b[K     |████████████████████████████▏   | 2.4 MB 34.0 MB/s eta 0:00:01\r\u001b[K     |████████████████████████████▎   | 2.4 MB 34.0 MB/s eta 0:00:01\r\u001b[K     |████████████████████████████▍   | 2.4 MB 34.0 MB/s eta 0:00:01\r\u001b[K     |████████████████████████████▌   | 2.5 MB 34.0 MB/s eta 0:00:01\r\u001b[K     |████████████████████████████▋   | 2.5 MB 34.0 MB/s eta 0:00:01\r\u001b[K     |████████████████████████████▊   | 2.5 MB 34.0 MB/s eta 0:00:01\r\u001b[K     |████████████████████████████▉   | 2.5 MB 34.0 MB/s eta 0:00:01\r\u001b[K     |█████████████████████████████   | 2.5 MB 34.0 MB/s eta 0:00:01\r\u001b[K     |█████████████████████████████   | 2.5 MB 34.0 MB/s eta 0:00:01\r\u001b[K     |█████████████████████████████▏  | 2.5 MB 34.0 MB/s eta 0:00:01\r\u001b[K     |█████████████████████████████▎  | 2.5 MB 34.0 MB/s eta 0:00:01\r\u001b[K     |█████████████████████████████▍  | 2.5 MB 34.0 MB/s eta 0:00:01\r\u001b[K     |█████████████████████████████▌  | 2.5 MB 34.0 MB/s eta 0:00:01\r\u001b[K     |█████████████████████████████▋  | 2.6 MB 34.0 MB/s eta 0:00:01\r\u001b[K     |█████████████████████████████▊  | 2.6 MB 34.0 MB/s eta 0:00:01\r\u001b[K     |██████████████████████████████  | 2.6 MB 34.0 MB/s eta 0:00:01\r\u001b[K     |██████████████████████████████  | 2.6 MB 34.0 MB/s eta 0:00:01\r\u001b[K     |██████████████████████████████▏ | 2.6 MB 34.0 MB/s eta 0:00:01\r\u001b[K     |██████████████████████████████▎ | 2.6 MB 34.0 MB/s eta 0:00:01\r\u001b[K     |██████████████████████████████▍ | 2.6 MB 34.0 MB/s eta 0:00:01\r\u001b[K     |██████████████████████████████▌ | 2.6 MB 34.0 MB/s eta 0:00:01\r\u001b[K     |██████████████████████████████▋ | 2.6 MB 34.0 MB/s eta 0:00:01\r\u001b[K     |██████████████████████████████▊ | 2.7 MB 34.0 MB/s eta 0:00:01\r\u001b[K     |██████████████████████████████▉ | 2.7 MB 34.0 MB/s eta 0:00:01\r\u001b[K     |███████████████████████████████ | 2.7 MB 34.0 MB/s eta 0:00:01\r\u001b[K     |███████████████████████████████ | 2.7 MB 34.0 MB/s eta 0:00:01\r\u001b[K     |███████████████████████████████▏| 2.7 MB 34.0 MB/s eta 0:00:01\r\u001b[K     |███████████████████████████████▎| 2.7 MB 34.0 MB/s eta 0:00:01\r\u001b[K     |███████████████████████████████▍| 2.7 MB 34.0 MB/s eta 0:00:01\r\u001b[K     |███████████████████████████████▋| 2.7 MB 34.0 MB/s eta 0:00:01\r\u001b[K     |███████████████████████████████▊| 2.7 MB 34.0 MB/s eta 0:00:01\r\u001b[K     |███████████████████████████████▉| 2.7 MB 34.0 MB/s eta 0:00:01\r\u001b[K     |████████████████████████████████| 2.8 MB 34.0 MB/s eta 0:00:01\r\u001b[K     |████████████████████████████████| 2.8 MB 34.0 MB/s \n",
            "\u001b[?25hRequirement already satisfied: ipywidgets in /usr/local/lib/python3.7/dist-packages (7.6.3)\n",
            "Collecting ipywidgets\n",
            "  Downloading ipywidgets-7.6.4-py2.py3-none-any.whl (121 kB)\n",
            "\u001b[K     |████████████████████████████████| 121 kB 47.2 MB/s \n",
            "\u001b[?25hCollecting gradio\n",
            "  Downloading gradio-2.3.0-py3-none-any.whl (3.4 MB)\n",
            "\u001b[K     |████████████████████████████████| 3.4 MB 73.5 MB/s \n",
            "\u001b[?25hRequirement already satisfied: importlib-metadata in /usr/local/lib/python3.7/dist-packages (from transformers) (4.6.4)\n",
            "Collecting huggingface-hub>=0.0.12\n",
            "  Downloading huggingface_hub-0.0.16-py3-none-any.whl (50 kB)\n",
            "\u001b[K     |████████████████████████████████| 50 kB 6.4 MB/s \n",
            "\u001b[?25hCollecting pyyaml>=5.1\n",
            "  Downloading PyYAML-5.4.1-cp37-cp37m-manylinux1_x86_64.whl (636 kB)\n",
            "\u001b[K     |████████████████████████████████| 636 kB 49.7 MB/s \n",
            "\u001b[?25hRequirement already satisfied: filelock in /usr/local/lib/python3.7/dist-packages (from transformers) (3.0.12)\n",
            "Collecting tokenizers<0.11,>=0.10.1\n",
            "  Downloading tokenizers-0.10.3-cp37-cp37m-manylinux_2_5_x86_64.manylinux1_x86_64.manylinux_2_12_x86_64.manylinux2010_x86_64.whl (3.3 MB)\n",
            "\u001b[K     |████████████████████████████████| 3.3 MB 48.5 MB/s \n",
            "\u001b[?25hRequirement already satisfied: numpy>=1.17 in /usr/local/lib/python3.7/dist-packages (from transformers) (1.19.5)\n",
            "Requirement already satisfied: packaging in /usr/local/lib/python3.7/dist-packages (from transformers) (21.0)\n",
            "Requirement already satisfied: regex!=2019.12.17 in /usr/local/lib/python3.7/dist-packages (from transformers) (2019.12.20)\n",
            "Requirement already satisfied: tqdm>=4.27 in /usr/local/lib/python3.7/dist-packages (from transformers) (4.62.0)\n",
            "Requirement already satisfied: requests in /usr/local/lib/python3.7/dist-packages (from transformers) (2.23.0)\n",
            "Collecting sacremoses\n",
            "  Downloading sacremoses-0.0.45-py3-none-any.whl (895 kB)\n",
            "\u001b[K     |████████████████████████████████| 895 kB 68.7 MB/s \n",
            "\u001b[?25hRequirement already satisfied: typing-extensions in /usr/local/lib/python3.7/dist-packages (from huggingface-hub>=0.0.12->transformers) (3.7.4.3)\n",
            "Requirement already satisfied: pyparsing>=2.0.2 in /usr/local/lib/python3.7/dist-packages (from packaging->transformers) (2.4.7)\n",
            "Requirement already satisfied: nbformat>=4.2.0 in /usr/local/lib/python3.7/dist-packages (from ipywidgets) (5.1.3)\n",
            "Requirement already satisfied: ipython>=4.0.0 in /usr/local/lib/python3.7/dist-packages (from ipywidgets) (5.5.0)\n",
            "Requirement already satisfied: ipykernel>=4.5.1 in /usr/local/lib/python3.7/dist-packages (from ipywidgets) (4.10.1)\n",
            "Requirement already satisfied: jupyterlab-widgets>=1.0.0 in /usr/local/lib/python3.7/dist-packages (from ipywidgets) (1.0.0)\n",
            "Requirement already satisfied: traitlets>=4.3.1 in /usr/local/lib/python3.7/dist-packages (from ipywidgets) (5.0.5)\n",
            "Requirement already satisfied: ipython-genutils~=0.2.0 in /usr/local/lib/python3.7/dist-packages (from ipywidgets) (0.2.0)\n",
            "Requirement already satisfied: widgetsnbextension~=3.5.0 in /usr/local/lib/python3.7/dist-packages (from ipywidgets) (3.5.1)\n",
            "Requirement already satisfied: jupyter-client in /usr/local/lib/python3.7/dist-packages (from ipykernel>=4.5.1->ipywidgets) (5.3.5)\n",
            "Requirement already satisfied: tornado>=4.0 in /usr/local/lib/python3.7/dist-packages (from ipykernel>=4.5.1->ipywidgets) (5.1.1)\n",
            "Requirement already satisfied: pygments in /usr/local/lib/python3.7/dist-packages (from ipython>=4.0.0->ipywidgets) (2.6.1)\n",
            "Requirement already satisfied: pexpect in /usr/local/lib/python3.7/dist-packages (from ipython>=4.0.0->ipywidgets) (4.8.0)\n",
            "Requirement already satisfied: pickleshare in /usr/local/lib/python3.7/dist-packages (from ipython>=4.0.0->ipywidgets) (0.7.5)\n",
            "Requirement already satisfied: setuptools>=18.5 in /usr/local/lib/python3.7/dist-packages (from ipython>=4.0.0->ipywidgets) (57.4.0)\n",
            "Requirement already satisfied: prompt-toolkit<2.0.0,>=1.0.4 in /usr/local/lib/python3.7/dist-packages (from ipython>=4.0.0->ipywidgets) (1.0.18)\n",
            "Requirement already satisfied: simplegeneric>0.8 in /usr/local/lib/python3.7/dist-packages (from ipython>=4.0.0->ipywidgets) (0.8.1)\n",
            "Requirement already satisfied: decorator in /usr/local/lib/python3.7/dist-packages (from ipython>=4.0.0->ipywidgets) (4.4.2)\n",
            "Requirement already satisfied: jsonschema!=2.5.0,>=2.4 in /usr/local/lib/python3.7/dist-packages (from nbformat>=4.2.0->ipywidgets) (2.6.0)\n",
            "Requirement already satisfied: jupyter-core in /usr/local/lib/python3.7/dist-packages (from nbformat>=4.2.0->ipywidgets) (4.7.1)\n",
            "Requirement already satisfied: six>=1.9.0 in /usr/local/lib/python3.7/dist-packages (from prompt-toolkit<2.0.0,>=1.0.4->ipython>=4.0.0->ipywidgets) (1.15.0)\n",
            "Requirement already satisfied: wcwidth in /usr/local/lib/python3.7/dist-packages (from prompt-toolkit<2.0.0,>=1.0.4->ipython>=4.0.0->ipywidgets) (0.2.5)\n",
            "Requirement already satisfied: notebook>=4.4.1 in /usr/local/lib/python3.7/dist-packages (from widgetsnbextension~=3.5.0->ipywidgets) (5.3.1)\n",
            "Requirement already satisfied: jinja2 in /usr/local/lib/python3.7/dist-packages (from notebook>=4.4.1->widgetsnbextension~=3.5.0->ipywidgets) (2.11.3)\n",
            "Requirement already satisfied: nbconvert in /usr/local/lib/python3.7/dist-packages (from notebook>=4.4.1->widgetsnbextension~=3.5.0->ipywidgets) (5.6.1)\n",
            "Requirement already satisfied: terminado>=0.8.1 in /usr/local/lib/python3.7/dist-packages (from notebook>=4.4.1->widgetsnbextension~=3.5.0->ipywidgets) (0.11.0)\n",
            "Requirement already satisfied: Send2Trash in /usr/local/lib/python3.7/dist-packages (from notebook>=4.4.1->widgetsnbextension~=3.5.0->ipywidgets) (1.8.0)\n",
            "Requirement already satisfied: python-dateutil>=2.1 in /usr/local/lib/python3.7/dist-packages (from jupyter-client->ipykernel>=4.5.1->ipywidgets) (2.8.2)\n",
            "Requirement already satisfied: pyzmq>=13 in /usr/local/lib/python3.7/dist-packages (from jupyter-client->ipykernel>=4.5.1->ipywidgets) (22.2.1)\n",
            "Requirement already satisfied: ptyprocess in /usr/local/lib/python3.7/dist-packages (from terminado>=0.8.1->notebook>=4.4.1->widgetsnbextension~=3.5.0->ipywidgets) (0.7.0)\n",
            "Requirement already satisfied: Flask>=1.1.1 in /usr/local/lib/python3.7/dist-packages (from gradio) (1.1.4)\n",
            "Collecting pycryptodome\n",
            "  Downloading pycryptodome-3.10.1-cp35-abi3-manylinux2010_x86_64.whl (1.9 MB)\n",
            "\u001b[K     |████████████████████████████████| 1.9 MB 68.3 MB/s \n",
            "\u001b[?25hRequirement already satisfied: matplotlib in /usr/local/lib/python3.7/dist-packages (from gradio) (3.2.2)\n",
            "Collecting ffmpy\n",
            "  Downloading ffmpy-0.3.0.tar.gz (4.8 kB)\n",
            "Requirement already satisfied: scipy in /usr/local/lib/python3.7/dist-packages (from gradio) (1.4.1)\n",
            "Collecting paramiko\n",
            "  Downloading paramiko-2.7.2-py2.py3-none-any.whl (206 kB)\n",
            "\u001b[K     |████████████████████████████████| 206 kB 67.3 MB/s \n",
            "\u001b[?25hRequirement already satisfied: pillow in /usr/local/lib/python3.7/dist-packages (from gradio) (7.1.2)\n",
            "Collecting analytics-python\n",
            "  Downloading analytics_python-1.4.0-py2.py3-none-any.whl (15 kB)\n",
            "Requirement already satisfied: pandas in /usr/local/lib/python3.7/dist-packages (from gradio) (1.1.5)\n",
            "Collecting markdown2\n",
            "  Downloading markdown2-2.4.1-py2.py3-none-any.whl (34 kB)\n",
            "Collecting Flask-Login\n",
            "  Downloading Flask_Login-0.5.0-py2.py3-none-any.whl (16 kB)\n",
            "Collecting Flask-Cors>=3.0.8\n",
            "  Downloading Flask_Cors-3.0.10-py2.py3-none-any.whl (14 kB)\n",
            "Collecting flask-cachebuster\n",
            "  Downloading Flask-CacheBuster-1.0.0.tar.gz (3.1 kB)\n",
            "Requirement already satisfied: itsdangerous<2.0,>=0.24 in /usr/local/lib/python3.7/dist-packages (from Flask>=1.1.1->gradio) (1.1.0)\n",
            "Requirement already satisfied: Werkzeug<2.0,>=0.15 in /usr/local/lib/python3.7/dist-packages (from Flask>=1.1.1->gradio) (1.0.1)\n",
            "Requirement already satisfied: click<8.0,>=5.1 in /usr/local/lib/python3.7/dist-packages (from Flask>=1.1.1->gradio) (7.1.2)\n",
            "Requirement already satisfied: MarkupSafe>=0.23 in /usr/local/lib/python3.7/dist-packages (from jinja2->notebook>=4.4.1->widgetsnbextension~=3.5.0->ipywidgets) (2.0.1)\n",
            "Collecting backoff==1.10.0\n",
            "  Downloading backoff-1.10.0-py2.py3-none-any.whl (31 kB)\n",
            "Collecting monotonic>=1.5\n",
            "  Downloading monotonic-1.6-py2.py3-none-any.whl (8.2 kB)\n",
            "Requirement already satisfied: urllib3!=1.25.0,!=1.25.1,<1.26,>=1.21.1 in /usr/local/lib/python3.7/dist-packages (from requests->transformers) (1.24.3)\n",
            "Requirement already satisfied: certifi>=2017.4.17 in /usr/local/lib/python3.7/dist-packages (from requests->transformers) (2021.5.30)\n",
            "Requirement already satisfied: chardet<4,>=3.0.2 in /usr/local/lib/python3.7/dist-packages (from requests->transformers) (3.0.4)\n",
            "Requirement already satisfied: idna<3,>=2.5 in /usr/local/lib/python3.7/dist-packages (from requests->transformers) (2.10)\n",
            "Requirement already satisfied: zipp>=0.5 in /usr/local/lib/python3.7/dist-packages (from importlib-metadata->transformers) (3.5.0)\n",
            "Requirement already satisfied: cycler>=0.10 in /usr/local/lib/python3.7/dist-packages (from matplotlib->gradio) (0.10.0)\n",
            "Requirement already satisfied: kiwisolver>=1.0.1 in /usr/local/lib/python3.7/dist-packages (from matplotlib->gradio) (1.3.1)\n",
            "Requirement already satisfied: defusedxml in /usr/local/lib/python3.7/dist-packages (from nbconvert->notebook>=4.4.1->widgetsnbextension~=3.5.0->ipywidgets) (0.7.1)\n",
            "Requirement already satisfied: bleach in /usr/local/lib/python3.7/dist-packages (from nbconvert->notebook>=4.4.1->widgetsnbextension~=3.5.0->ipywidgets) (4.0.0)\n",
            "Requirement already satisfied: mistune<2,>=0.8.1 in /usr/local/lib/python3.7/dist-packages (from nbconvert->notebook>=4.4.1->widgetsnbextension~=3.5.0->ipywidgets) (0.8.4)\n",
            "Requirement already satisfied: entrypoints>=0.2.2 in /usr/local/lib/python3.7/dist-packages (from nbconvert->notebook>=4.4.1->widgetsnbextension~=3.5.0->ipywidgets) (0.3)\n",
            "Requirement already satisfied: pandocfilters>=1.4.1 in /usr/local/lib/python3.7/dist-packages (from nbconvert->notebook>=4.4.1->widgetsnbextension~=3.5.0->ipywidgets) (1.4.3)\n",
            "Requirement already satisfied: testpath in /usr/local/lib/python3.7/dist-packages (from nbconvert->notebook>=4.4.1->widgetsnbextension~=3.5.0->ipywidgets) (0.5.0)\n",
            "Requirement already satisfied: webencodings in /usr/local/lib/python3.7/dist-packages (from bleach->nbconvert->notebook>=4.4.1->widgetsnbextension~=3.5.0->ipywidgets) (0.5.1)\n",
            "Requirement already satisfied: pytz>=2017.2 in /usr/local/lib/python3.7/dist-packages (from pandas->gradio) (2018.9)\n",
            "Collecting pynacl>=1.0.1\n",
            "  Downloading PyNaCl-1.4.0-cp35-abi3-manylinux1_x86_64.whl (961 kB)\n",
            "\u001b[K     |████████████████████████████████| 961 kB 47.3 MB/s \n",
            "\u001b[?25hCollecting cryptography>=2.5\n",
            "  Downloading cryptography-3.4.8-cp36-abi3-manylinux_2_24_x86_64.whl (3.0 MB)\n",
            "\u001b[K     |████████████████████████████████| 3.0 MB 39.9 MB/s \n",
            "\u001b[?25hCollecting bcrypt>=3.1.3\n",
            "  Downloading bcrypt-3.2.0-cp36-abi3-manylinux2010_x86_64.whl (63 kB)\n",
            "\u001b[K     |████████████████████████████████| 63 kB 2.4 MB/s \n",
            "\u001b[?25hRequirement already satisfied: cffi>=1.1 in /usr/local/lib/python3.7/dist-packages (from bcrypt>=3.1.3->paramiko->gradio) (1.14.6)\n",
            "Requirement already satisfied: pycparser in /usr/local/lib/python3.7/dist-packages (from cffi>=1.1->bcrypt>=3.1.3->paramiko->gradio) (2.20)\n",
            "Requirement already satisfied: joblib in /usr/local/lib/python3.7/dist-packages (from sacremoses->transformers) (1.0.1)\n",
            "Building wheels for collected packages: ffmpy, flask-cachebuster\n",
            "  Building wheel for ffmpy (setup.py) ... \u001b[?25l\u001b[?25hdone\n",
            "  Created wheel for ffmpy: filename=ffmpy-0.3.0-py3-none-any.whl size=4710 sha256=d91038d8b69173ba60deee5b84bd9d0643dd74d511a56dfea34d0b52946b24d3\n",
            "  Stored in directory: /root/.cache/pip/wheels/13/e4/6c/e8059816e86796a597c6e6b0d4c880630f51a1fcfa0befd5e6\n",
            "  Building wheel for flask-cachebuster (setup.py) ... \u001b[?25l\u001b[?25hdone\n",
            "  Created wheel for flask-cachebuster: filename=Flask_CacheBuster-1.0.0-py3-none-any.whl size=3371 sha256=acd52d3b8326d45bb2b64c3ec963e5915e513f49cc19cecc53f5b81b65938371\n",
            "  Stored in directory: /root/.cache/pip/wheels/28/c0/c4/44687421dab41455be93112bd1b0dee1f3c5a9aa27bee63708\n",
            "Successfully built ffmpy flask-cachebuster\n",
            "Installing collected packages: pynacl, monotonic, cryptography, bcrypt, backoff, tokenizers, sacremoses, pyyaml, pycryptodome, paramiko, markdown2, huggingface-hub, Flask-Login, Flask-Cors, flask-cachebuster, ffmpy, analytics-python, transformers, ipywidgets, gradio\n",
            "  Attempting uninstall: pyyaml\n",
            "    Found existing installation: PyYAML 3.13\n",
            "    Uninstalling PyYAML-3.13:\n",
            "      Successfully uninstalled PyYAML-3.13\n",
            "  Attempting uninstall: ipywidgets\n",
            "    Found existing installation: ipywidgets 7.6.3\n",
            "    Uninstalling ipywidgets-7.6.3:\n",
            "      Successfully uninstalled ipywidgets-7.6.3\n",
            "Successfully installed Flask-Cors-3.0.10 Flask-Login-0.5.0 analytics-python-1.4.0 backoff-1.10.0 bcrypt-3.2.0 cryptography-3.4.8 ffmpy-0.3.0 flask-cachebuster-1.0.0 gradio-2.3.0 huggingface-hub-0.0.16 ipywidgets-7.6.4 markdown2-2.4.1 monotonic-1.6 paramiko-2.7.2 pycryptodome-3.10.1 pynacl-1.4.0 pyyaml-5.4.1 sacremoses-0.0.45 tokenizers-0.10.3 transformers-4.10.2\n"
          ]
        },
        {
          "output_type": "display_data",
          "data": {
            "application/vnd.colab-display-data+json": {
              "pip_warning": {
                "packages": [
                  "ipywidgets"
                ]
              }
            }
          },
          "metadata": {}
        }
      ]
    },
    {
      "cell_type": "code",
      "metadata": {
        "id": "AM94QQ-QZ1OI"
      },
      "source": [
        "#importing the libraries\n",
        "import gradio as gr                   # UI library\n",
        "from transformers import pipeline     # Transformers pipeline"
      ],
      "execution_count": 3,
      "outputs": []
    },
    {
      "cell_type": "code",
      "metadata": {
        "id": "p1iDviciaXlw",
        "colab": {
          "base_uri": "https://localhost:8080/"
        },
        "outputId": "ec9a923c-fe57-437c-9a91-877ec0344297"
      },
      "source": [
        "#we will start implementing the model. For this, we will first import a Pretrained Translation Pipeline Model by HuggingFace, \n",
        "#which we will be using. To use it, we first need to create a pipeline class and then pass it with functionality we want to use. We will be using the \n",
        "#translation function and defining our initial language and o what it will be translated to. Here I’ll be translating from English to French.\n",
        "\n",
        "#Installing the Pre Trained HuggingFace Pipeline and setting up for En To Fr\n",
        "translation_pipeline = pipeline('translation_en_to_fr')"
      ],
      "execution_count": 8,
      "outputs": [
        {
          "output_type": "stream",
          "name": "stderr",
          "text": [
            "No model was supplied, defaulted to t5-base (https://huggingface.co/t5-base)\n"
          ]
        }
      ]
    },
    {
      "cell_type": "code",
      "metadata": {
        "colab": {
          "base_uri": "https://localhost:8080/",
          "height": 69
        },
        "id": "SOLuj6gNanNO",
        "outputId": "194ff0e5-73db-4539-ca30-1618122d95b7"
      },
      "source": [
        "#Passing a line to translate and testing if it is working properly, \n",
        "Input_text = print('Print your english statement')\n",
        "Input_text = input(Input_text)\n",
        "results = translation_pipeline(Input_text)\n",
        "\n",
        "#displaying the result\n",
        "results[0]['translation_text']"
      ],
      "execution_count": 11,
      "outputs": [
        {
          "name": "stdout",
          "output_type": "stream",
          "text": [
            "Print your english statement\n",
            "I am feeling good\n"
          ]
        },
        {
          "output_type": "execute_result",
          "data": {
            "application/vnd.google.colaboratory.intrinsic+json": {
              "type": "string"
            },
            "text/plain": [
              "'Je me sens bien'"
            ]
          },
          "metadata": {},
          "execution_count": 11
        }
      ]
    },
    {
      "cell_type": "code",
      "metadata": {
        "id": "K7eSBHbpa7PM"
      },
      "source": [
        "#Creating a Gradio Function and Interface\n",
        "#We will be next creating a user interface using Gradio; \n",
        "#for this, we will now set up our translation transformer into Gradio. \n",
        "\n",
        "#creating a fuction called translate\n",
        "def translate_transformers(from_text):\n",
        " results = translation_pipeline(from_text)\n",
        " return results[0]['translation_text']\n",
        " "
      ],
      "execution_count": 12,
      "outputs": []
    },
    {
      "cell_type": "code",
      "metadata": {
        "id": "eOM_wVszbGdh"
      },
      "source": [
        "#Creating the User Interface Space\n",
        "interface = gr.Interface(fn=translate_transformers, \n",
        "                         inputs=gr.inputs.Textbox(lines=2, placeholder='Text to translate'),\n",
        "                        outputs='text')"
      ],
      "execution_count": 13,
      "outputs": []
    },
    {
      "cell_type": "code",
      "metadata": {
        "colab": {
          "base_uri": "https://localhost:8080/",
          "height": 640
        },
        "id": "9LLNrd0NbMPs",
        "outputId": "f4455b31-ad29-45fa-b1c7-fee7c376338a"
      },
      "source": [
        "#launching the interface\n",
        "interface.launch()"
      ],
      "execution_count": 14,
      "outputs": [
        {
          "output_type": "stream",
          "name": "stdout",
          "text": [
            "Colab notebook detected. To show errors in colab notebook, set `debug=True` in `launch()`\n",
            "This share link will expire in 24 hours. If you need a permanent link, visit: https://gradio.app/introducing-hosted (NEW!)\n",
            "Running on External URL: https://48255.gradio.app\n",
            "Interface loading below...\n"
          ]
        },
        {
          "output_type": "display_data",
          "data": {
            "text/html": [
              "\n",
              "        <iframe\n",
              "            width=\"900\"\n",
              "            height=\"500\"\n",
              "            src=\"https://48255.gradio.app\"\n",
              "            frameborder=\"0\"\n",
              "            allowfullscreen\n",
              "        ></iframe>\n",
              "        "
            ],
            "text/plain": [
              "<IPython.lib.display.IFrame at 0x7fda59b237d0>"
            ]
          },
          "metadata": {}
        },
        {
          "output_type": "execute_result",
          "data": {
            "text/plain": [
              "(<Flask 'gradio.networking'>,\n",
              " 'http://127.0.0.1:7860/',\n",
              " 'https://48255.gradio.app')"
            ]
          },
          "metadata": {},
          "execution_count": 14
        }
      ]
    }
  ]
}